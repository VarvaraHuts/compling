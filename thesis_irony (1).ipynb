{
 "cells": [
  {
   "cell_type": "code",
   "execution_count": 1,
   "metadata": {
    "collapsed": true
   },
   "outputs": [],
   "source": [
    "from sklearn import preprocessing"
   ]
  },
  {
   "cell_type": "code",
   "execution_count": 2,
   "metadata": {
    "collapsed": false
   },
   "outputs": [
    {
     "name": "stdout",
     "output_type": "stream",
     "text": [
      "['!', '...', 'ух как', 'ух какой', 'ммм', 'мда', ', ага', ', да', ', да-да', 'ну да', 'да неужели', 'о да', 'ага, конечно', 'осталось только', 'хватило ж ума', 'не прошло и', 'не дай бог', 'а я и не знал', 'аж целых', 'я мастер', 'я \"мастер\"', 'я просто мастер', 'я конечно мастер', 'люблю и умею', 'люблю, умею, практикую', 'победитель по жизни', ', успех', 'бла-бла-бла', 'счастье-то какое', 'здорово-то как', 'безудержное веселье', 'гениальное решение', 'совсем другая история', 'пойти поесть что ли', 'то позитивное чувство, когда', 'иронично', 'жизнь-боль', 'жизнь боль', 'жизнь-тлен', 'жизнь тлен', 'мир-тлен', 'ахаха']\n"
     ]
    }
   ],
   "source": [
    "markers = []\n",
    "\n",
    "s = open(\"C:/Users/ponch/Downloads/markers1.txt\", \"r\", encoding = \"utf-8\")\n",
    "lines_s = s.readlines()\n",
    "for line_s in lines_s:\n",
    "    marker = line_s.replace('\\n', '')\n",
    "    marker = marker.replace('\\ufeff', '')\n",
    "    markers.append(marker)\n",
    "print (markers)"
   ]
  },
  {
   "cell_type": "code",
   "execution_count": 3,
   "metadata": {
    "collapsed": false
   },
   "outputs": [
    {
     "name": "stdout",
     "output_type": "stream",
     "text": [
      "['о да конечно', 'о да разумеется', 'ну да конечно', 'ну да разумеется', 'только не хватало', 'только не хватает', 'я от бога', 'я самый удачливый', 'я так умею', 'отличная идея браво', 'кого тот я']\n"
     ]
    }
   ],
   "source": [
    "markers2 = []\n",
    "\n",
    "z = open(\"C:/Users/ponch/Downloads/markers2.txt\", \"r\", encoding = \"utf-8\")\n",
    "lines_z = z.readlines()\n",
    "for line_z in lines_z:\n",
    "    marker = line_z.replace('\\n', '')\n",
    "    marker = marker.replace('\\ufeff', '')\n",
    "    markers2.append(marker)\n",
    "print(markers2)"
   ]
  },
  {
   "cell_type": "markdown",
   "metadata": {},
   "source": [
    "В файле sentilex находится словарь тональности."
   ]
  },
  {
   "cell_type": "code",
   "execution_count": 4,
   "metadata": {
    "collapsed": false
   },
   "outputs": [],
   "source": [
    "m = open(\"C:/Users/ponch/Downloads/sentilex.csv\", \"r\", encoding = \"Windows-1251\")\n",
    "lines_m = m.readlines()\n",
    "\n",
    "dic = {}\n",
    "\n",
    "for line_m in lines_m:\n",
    "    line_m = line_m.strip(\"\\n\")\n",
    "    line_m = line_m.split(\",\")\n",
    "    word_ton = line_m[0]\n",
    "    ton = line_m[1]\n",
    "    dic[word_ton] = ton"
   ]
  },
  {
   "cell_type": "markdown",
   "metadata": {},
   "source": [
    "Для второй группы признаков (markers2) используем лемматизированный корпус."
   ]
  },
  {
   "cell_type": "code",
   "execution_count": 6,
   "metadata": {
    "collapsed": false
   },
   "outputs": [],
   "source": [
    "matrix2 = []\n",
    "\n",
    "v = open(\"C:/Users/ponch/Downloads/corp_FINAL_lemm (1).csv\", \"r\", encoding = \"Windows-1251\")\n",
    "lines_v = v.readlines()\n",
    "punct = \".,;?!\"\n",
    "for line_v in lines_v:\n",
    "    line_v = line_v.split(\";\")\n",
    "    twit = line_v[1].replace(\"\\n\", \" end\")\n",
    "    for letter in twit:\n",
    "        if letter in punct:\n",
    "            twit = twit.replace(letter, \"\")\n",
    "    arr2 = []\n",
    "    count_quotes = 0\n",
    "    count_prost = 0\n",
    "    count_pryam = 0\n",
    "    count_chto_moch = 0\n",
    "    count_net_nichto = 0\n",
    "    count_nichto_skaz = 0\n",
    "    count_neg = 0\n",
    "    for key, value in dic.items():\n",
    "        if '\"' + key + '\"' in twit and value == \" positive\":\n",
    "            count_quotes += 1\n",
    "        if \"просто \" + key in twit:\n",
    "            count_prost += 1\n",
    "        if \"прямой \" + key in twit and value == \" positive\":\n",
    "            count_pryam += 1\n",
    "        if key + \" прямой\" in twit and value == \" positive\":\n",
    "            count_pryam += 1\n",
    "        if \"что мочь быть \" + key in twit and value == \" positive\":\n",
    "            count_chto_moch += 1\n",
    "        if \"нет ничто \" + key in twit and value == \" positive\":\n",
    "            count_net_nichto += 1\n",
    "        if \"ничто не сказать\" in twit and key in twit:\n",
    "            if value == \" positive\":\n",
    "                count_nichto_skaz += 1\n",
    "        if \"привет\" in twit or \"здравствуй\" in twit or \"спасибо\" in twit:\n",
    "            if key in twit and value == \" negative\":\n",
    "                count_neg += 1\n",
    "    arr2.append(count_quotes)\n",
    "    arr2.append(count_prost)\n",
    "    arr2.append(count_pryam)\n",
    "    arr2.append(count_chto_moch)\n",
    "    arr2.append(count_net_nichto)\n",
    "    arr2.append(count_nichto_skaz)\n",
    "    arr2.append(count_neg)\n",
    "    matrix2.append(arr2)"
   ]
  },
  {
   "cell_type": "markdown",
   "metadata": {},
   "source": [
    "Для первой группы признаков (markers) используем нелемматизированный корпус."
   ]
  },
  {
   "cell_type": "code",
   "execution_count": 7,
   "metadata": {
    "collapsed": false
   },
   "outputs": [],
   "source": [
    "matrix = []\n",
    "vector = []\n",
    "\n",
    "f = open(\"C:/Users/ponch/Downloads/corp_FINAL_non_lem (1).csv\", \"r\", encoding = \"Windows-1251\")\n",
    "lines_f = f.readlines()\n",
    "for line_f in lines_f:\n",
    "    arr = []\n",
    "    line_f = line_f.split(\";\")\n",
    "    if line_f[0] == '0' or line_f[0] == '1':\n",
    "        vector.append(int(line_f[0]))\n",
    "    twit = line_f[1]\n",
    "    for marker in markers:\n",
    "        count1 = 0\n",
    "        if marker in twit:\n",
    "            if marker == \", да\" or marker == \"ничего не скажешь\":\n",
    "                if marker + \"\\n\" in twit:\n",
    "                    count1 += 1\n",
    "            else:\n",
    "                count1 += 1\n",
    "        arr.append(count1)\n",
    "    for marker2 in markers2:\n",
    "        count2 = 0\n",
    "        words = marker2.split()\n",
    "        if words[0] in twit and words[1] in twit and words[2] in twit:\n",
    "            count2 += 1\n",
    "        arr.append(count2)\n",
    "    matrix.append(arr)"
   ]
  },
  {
   "cell_type": "code",
   "execution_count": 8,
   "metadata": {
    "collapsed": false
   },
   "outputs": [
    {
     "name": "stdout",
     "output_type": "stream",
     "text": [
      "1074\n"
     ]
    }
   ],
   "source": [
    "import numpy as np\n",
    "matrix_new = np.concatenate((matrix, matrix2), axis=1)\n",
    "print (len(matrix_new))"
   ]
  },
  {
   "cell_type": "code",
   "execution_count": 9,
   "metadata": {
    "collapsed": false
   },
   "outputs": [
    {
     "name": "stderr",
     "output_type": "stream",
     "text": [
      "C:\\Users\\ponch\\Anaconda3\\lib\\site-packages\\sklearn\\utils\\validation.py:429: DataConversionWarning: Data with input dtype int32 was converted to float64 by the scale function.\n",
      "  warnings.warn(msg, _DataConversionWarning)\n"
     ]
    }
   ],
   "source": [
    "matrix = preprocessing.scale(matrix_new)"
   ]
  },
  {
   "cell_type": "code",
   "execution_count": 10,
   "metadata": {
    "collapsed": false
   },
   "outputs": [],
   "source": [
    "matrix_train = matrix_new[0:900]"
   ]
  },
  {
   "cell_type": "code",
   "execution_count": 11,
   "metadata": {
    "collapsed": false
   },
   "outputs": [],
   "source": [
    "from sklearn import svm"
   ]
  },
  {
   "cell_type": "code",
   "execution_count": 12,
   "metadata": {
    "collapsed": false
   },
   "outputs": [],
   "source": [
    "clf = svm.SVC()\n",
    "clf = clf.fit(matrix_train, vector)"
   ]
  },
  {
   "cell_type": "code",
   "execution_count": 13,
   "metadata": {
    "collapsed": false
   },
   "outputs": [
    {
     "name": "stdout",
     "output_type": "stream",
     "text": [
      "174\n"
     ]
    }
   ],
   "source": [
    "test_corp = [1, 1, 1, 1, 1, 1, 1, 1, 1, 1, 1, 1, 1, 1, 1, 1, 1, 1, 1, 1, 1, 1, 1, 1, 1, 1, 1, 1, 1, 1, 1, 1, 1, 1, 1, 1, 1, 1, 1, 1, 1, 1, 1, 1, 1, 1, 1, 1, 1, 1, 1, 1, 1, 1, 1, 1, 1, 1, 1, 1, 1, 1, 1, 1, 1, 1, 1, 1, 1, 1, 1, 1, 1, 1, 1, 1, 1, 1, 1, 1, 1, 1, 1, 1, 1, 1, 1, 0, 0, 0, 0, 0, 0, 0, 0, 0, 0, 0, 0, 0, 0, 0, 0, 0, 0, 0, 0, 0, 0, 0, 0, 0, 0, 0, 0, 0, 0, 0, 0, 0, 0, 0, 0, 0, 0, 0, 0, 0, 0, 0, 0, 0, 0, 0, 0, 0, 0, 0, 0, 0, 0, 0, 0, 0, 0, 0, 0, 0, 0, 0, 0, 0, 0, 0, 0, 0, 0, 0, 0, 0, 0, 0, 0, 0, 0, 0, 0, 0, 0, 0, 0, 0, 0, 0]\n",
    "print (len(test_corp))"
   ]
  },
  {
   "cell_type": "code",
   "execution_count": 14,
   "metadata": {
    "collapsed": false
   },
   "outputs": [
    {
     "name": "stdout",
     "output_type": "stream",
     "text": [
      "упасть с лестницы. снова. только этого не хватало для полного счастья!\n",
      "\n",
      "ложиться спать в 4 утра? - люблю, умею, практикую\n",
      "\n",
      "с первым днем весны, ага\n",
      "\n",
      "осталось только новый стадион достроить и сдать в аренду\n",
      "\n",
      "сломалась камера смартфона! и значит инстаграм не увидит моих великолепных фотографий!\n",
      "\n",
      "только сегодня, когда ко мне залетел комар-долгоножка, я поняла, что, мать его, наступило лето! не прошло и 18 дней июня!!\n",
      "\n",
      "не дай бог будешь журналистом\n",
      "\n",
      "ого какая новость! а я и не знал этих фактов\n",
      "\n",
      "\"с утра \"\"любовь\"\" к работе особенная\"\n",
      "\n",
      "завтра нужно ехать за копией флюры... да за свет платить... просто насыщенный день будет\n",
      "\n",
      "я так люблю прям тех кто анфоловится\n",
      "\n",
      "проспать до 22, когда экзамен завтра в 9, а ты ничего не выучил это во прям замечательно\n",
      "\n",
      "натянула в первые ватман на планшет итог: катышки и порванные края - да я мастер!\n",
      "\n",
      "я водитель от бога. и права не нужны\n",
      "\n",
      "в общем я самый удачливый человек в мире\n",
      "\n",
      "хорошая ночка, ничего не скажешь\n",
      "\n",
      "ух какой классный дождь на улице\n",
      "\n",
      "ура-ура, наступила пора нелепых свитеров, здорово-то как\n",
      "\n",
      "счастье-то какое, 24-25ое — это рабочие дни\n",
      "\n",
      "что может быть лучше, чем опухшее лицо утром перед работой?\n",
      "\n",
      "сбежать- гениальное решение\n",
      "\n",
      "ммм, как классно уезжать с радуги в 9 вечера. столько транспорта идёт\n",
      "\n",
      "очереди длинной 10-15 человек? ммм, обожаю\n",
      "\n",
      "мы любим путина !!! а потом валим в сша\n",
      "\n",
      "ой да неужели мы опять засели за крафт\n",
      "\n",
      "мы честные журналисты, мы за свободу слова, не называть крым российским - это идти против наших принципов честности, бла-бла-бла\n",
      "\n",
      "летом вышел утром с чистой обувью и волосами, а вечером приходишь вся грязная, мдаа якутск ты меня никогда не разочаровываешь\n",
      "\n",
      "о да, первый канал, ну просто обязательно надо было упомянуть юлию самойлову, и что киев ее не пустил на евровидение. браво\n",
      "\n",
      "как иронично, яблофон 7 в кармане и мелочевка за проезд в трамвае\n",
      "\n",
      "я про тви совсем позабыл со всеми этими фестами и внезапно (о да конечно) свалившейся учебой\n",
      "\n",
      "спасибо электрикам за неожиданное отключение света, ноутбук уже час в себя прийти не может\n",
      "\n",
      "скорость ответов поддержки поражает своей молниеносностью!\n",
      "\n",
      "кабель проложен, качество укладки на 5!\n",
      "\n",
      "то позитивное чувство, когда только вчера создали свой сайт, а сегодня его уже пытаются взломать\n",
      "\n",
      "\"гоша вчера \"\"обрадовал\"\", на работу я еду одна завтра\"\n",
      "\n",
      "спала 4 часа, уснула в 10, проснулась в 14:00, успех\n",
      "\n",
      "\"я сдаю \"\"гиа\"\". а всё почему? да потому что я - победитель по жизни \"\n",
      "\n",
      "хочу в крым! должна была поехать с любимым! поехала в село! круто\n",
      "\n",
      "жизнь-тлен, когда понимаешь, что телефон не заряжался всю ночь\n",
      "\n",
      "заболела. только этого не хватало\n",
      "\n",
      "если не умирать от холода на улице, то придется умереть в транспорте от жары и отсутствия воздуха вообще! классное утро\n",
      "\n",
      "\"в 34 вырезали джинсы. \"\"обожаю\"\" ездить в таком битке\"\n",
      "\n",
      "\"у нас же в четверг уже учебная практика!!! опять \"\"скажем \"\"нет\"\" отдыху\"\"\"\n",
      "\n",
      "спасибо н.в. за оценки. попортила мне дневник и оценки за четверть\n",
      "\n",
      "думала спать лечь. ага, конечно, легла\n",
      "\n",
      "о господи, меня ненавидит скорина, пойти поесть что ли\n",
      "\n",
      "жизнь боль, когда на плеере зарядки ноль\n",
      "\n",
      "у кого зачетная неделя заканчивается, пока он в сочи, тот я\n",
      "\n",
      "хватило ж ума на удаленном компе запустить торрент-качалку. все, до него не достучаться\n",
      "\n",
      "привет снег, привет зимняя депрессия, привет сессия\n",
      "\n",
      "когда-нибудь я похудею, но это уже совсем другая история\n",
      "\n",
      "в деревне безудержное веселье особенно когда телек показывает только 2 канала\n",
      "\n",
      "еще и в тралике ехать час. а потом с малиновки до уручья столько же. победитель по жизни\n",
      "\n",
      "хватило ж ума представить нью песню до выхода альбома\n",
      "\n",
      "благодаря кому-то из родителей я спала аж целых 1,5 часа\n",
      "\n",
      "мда я конечно мастер благодарить людей\n",
      "\n",
      "второй вечер беспомощности из-за грозы. конечно, сдам я курсач вовремя, ага\n",
      "\n",
      "не пьёт она. ага, конечно, мы прям так сразу и поверили\n",
      "\n",
      "о да я ничто по сравнению с тобой\n",
      "\n",
      "воу воу воу за неделю аж целых два подписчика\n",
      "\n",
      "у тебя Кать такие щечки клевенькие ахаха\n",
      "\n",
      "ммм здравствуй, засушливое лето, без дождей и с 30° жарой...\n",
      "\n"
     ]
    }
   ],
   "source": [
    "predictions = clf.predict(matrix[900:])\n",
    "ind = 0\n",
    "TP = []\n",
    "while ind < 174:\n",
    "    if predictions[ind] == test_corp[ind] == 1:\n",
    "        index = 900 + ind\n",
    "        TP.append(index)\n",
    "        print (lines_f[index].strip(\";\"))\n",
    "    ind += 1"
   ]
  },
  {
   "cell_type": "code",
   "execution_count": 15,
   "metadata": {
    "collapsed": false,
    "scrolled": true
   },
   "outputs": [
    {
     "name": "stdout",
     "output_type": "stream",
     "text": [
      "ну теперь с такой поддержкой навальный точно победит путина\n",
      "\n",
      "действительно. чего вы возмущаетесь\n",
      "\n",
      "обожаю урфу за своевременную инфу всегда и обо всем\n",
      "\n",
      "грамотной, однако, я была в 11 классе\n",
      "\n",
      "а вообще классно, когда в воюющем государстве происходят такие вещи\n",
      "\n",
      "как прекрасен ж/д вокзал в 8 утра\n",
      "\n",
      "стою за посылкой в очереди на почте россии 25-ый по счету. здорово, люблю терять время\n",
      "\n",
      "люблю когда меня игнорят\n",
      "\n",
      "\"мне так везет на \"\"мужика\"\"\"\n",
      "\n",
      "слишком люблю неопределённость\n",
      "\n",
      "обожаю стоять на остановках рано утром, особенно когда дождливо\n",
      "\n",
      "до сих пор не ясно, где кто будет работать. лучшая компания, шикарные перспективы\n",
      "\n",
      "не правильного я выбрала мужика. не любит фоткаться\n",
      "\n",
      "а погода такая, потому что перуну перестали поклоняться\n",
      "\n",
      "разумеется, стоило помыть окно - пошел дождь\n",
      "\n",
      "гости за столом сказали, что свадьба в 25 лет - это поздний брак. то есть если я планирую выйти замуж эдак к 30, я старуха уже?\n",
      "\n",
      "прекрасный йогуртовый день. даже поесть некогда\n",
      "\n",
      "чтобы забрать машину нужен, конечно, самый холоднющщий день\n",
      "\n",
      "мне предстоит веселая поездка в одном автобусе с пьяной компанией\n",
      "\n",
      "доброе утро. супер мега бизнес центр на профессора попова, д. 37 остался без связи\n",
      "\n",
      "отлично, не погуляем завтра с подругой\n",
      "\n",
      "\"началось уже; о, здравствуй соль прекрасная на сапогах\"\n",
      "\n",
      "безысходность - когда умер твой любимый... айфон, со всей памятью и фото\n",
      "\n",
      "здравствуй, бессонная зимняя ночка\n",
      "\n",
      "возвращайся я скучаю\n",
      "\n",
      "25\n"
     ]
    }
   ],
   "source": [
    "ind = 0\n",
    "FN = []\n",
    "while ind < 174:\n",
    "    if predictions[ind] != test_corp[ind] and predictions[ind] == 0:\n",
    "        index = 900 + ind\n",
    "        FN.append(ind)\n",
    "        print (lines_f[index].strip(\";\"))\n",
    "    ind += 1\n",
    "print (len(FN))"
   ]
  },
  {
   "cell_type": "code",
   "execution_count": 16,
   "metadata": {
    "collapsed": false
   },
   "outputs": [
    {
     "name": "stdout",
     "output_type": "stream",
     "text": [
      "как же я люблю говорить неприятную правду в лицо. и ведь ничего не скажешь в ответ\n",
      "\n",
      "только тебя сейчас не хватает\n",
      "\n",
      "осталось только всем сдать сессию и собраться в самаре\n",
      "\n",
      "не дай бог напишет, я опять его пошлю\n",
      "\n",
      "\"лицезрел 5 серий \"\"мажора\"\", по советам не одного человека, ужасно скучный сериал\"\n",
      "\n",
      "есть же те у которых и по восемь тысяч читателей и они каждому ответят я таких прям уважаю\n",
      "\n",
      "ух какой цвет! жаль, себе не хочу фиолетовый\n",
      "\n",
      "ночь, стрим мэда, ретарды в чате, что может быть лучше\n",
      "\n",
      "новость: гениальное решение от ikea в разы упрощает процесс готовки блюд\n",
      "\n",
      "а я вот щас подумал - ведь медведев был президентом россии! неужели он тогда уже начал воровать?\n",
      "\n",
      "сейчас 22:35 и я решила обязательно сделать себе тату и пирсинг!\n",
      "\n",
      "\"мама говорит, что даже не знает, кто такие эти \"\"могучие рейнджеры\"\"\"\n",
      "\n",
      "12\n"
     ]
    }
   ],
   "source": [
    "ind = 0\n",
    "FP = []\n",
    "while ind < 174:\n",
    "    if predictions[ind] != test_corp[ind] == 0:\n",
    "        index = 900 + ind\n",
    "        FP.append(index)\n",
    "        print (lines_f[index].strip(\";\"))\n",
    "    ind += 1\n",
    "print(len(FP))"
   ]
  },
  {
   "cell_type": "code",
   "execution_count": 17,
   "metadata": {
    "collapsed": false
   },
   "outputs": [
    {
     "name": "stdout",
     "output_type": "stream",
     "text": [
      "0.8378378378378378\n"
     ]
    }
   ],
   "source": [
    "recall = len(TP) / (len(TP) + len(FP))\n",
    "print (recall)"
   ]
  },
  {
   "cell_type": "code",
   "execution_count": 18,
   "metadata": {
    "collapsed": false
   },
   "outputs": [
    {
     "name": "stdout",
     "output_type": "stream",
     "text": [
      "0.7126436781609196\n"
     ]
    }
   ],
   "source": [
    "precision = len(TP) / (len(TP) + len(FN))\n",
    "print (precision)"
   ]
  },
  {
   "cell_type": "code",
   "execution_count": 19,
   "metadata": {
    "collapsed": false
   },
   "outputs": [
    {
     "name": "stdout",
     "output_type": "stream",
     "text": [
      "0.7701863354037266\n"
     ]
    }
   ],
   "source": [
    "fscore = 2*(precision*recall/(precision + recall))\n",
    "print (fscore)"
   ]
  }
 ],
 "metadata": {
  "kernelspec": {
   "display_name": "Python 3",
   "language": "python",
   "name": "python3"
  },
  "language_info": {
   "codemirror_mode": {
    "name": "ipython",
    "version": 3
   },
   "file_extension": ".py",
   "mimetype": "text/x-python",
   "name": "python",
   "nbconvert_exporter": "python",
   "pygments_lexer": "ipython3",
   "version": "3.6.0"
  }
 },
 "nbformat": 4,
 "nbformat_minor": 2
}

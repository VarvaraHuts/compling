{
 "cells": [
  {
   "cell_type": "code",
   "execution_count": 1,
   "metadata": {
    "collapsed": false
   },
   "outputs": [],
   "source": [
    "f = open(\"C:/Users/1/Desktop/стоп слова.txt\", \"r\", encoding=\"utf-8\")\n",
    "lines = f.readlines()\n",
    "\n",
    "def stop_words(lines):\n",
    "    stop_words = []\n",
    "    for line in lines:\n",
    "        line = line.strip(\"\\n\")\n",
    "        line = line.replace(\"\\ufeff\", \"\")\n",
    "        stop_words.append(line)\n",
    "    return (stop_words)\n",
    "\n",
    "def number(word):\n",
    "    nums = \"0123456789\"\n",
    "    for i in word:\n",
    "        if i in nums:\n",
    "            return True"
   ]
  },
  {
   "cell_type": "code",
   "execution_count": 2,
   "metadata": {
    "collapsed": false
   },
   "outputs": [
    {
     "name": "stdout",
     "output_type": "stream",
     "text": [
      "['а', 'бы', 'в', 'во', 'вот', 'для', 'до', 'если', 'же', 'за', 'и', 'из', 'или', 'к', 'ко', 'на', 'над', 'но', 'о', 'об', 'от', 'по', 'при', 'с', 'то', 'у', 'чтобы', 'да', 'нет', 'не', 'ни', '—', 'это', 'много', 'немного', 'мало', 'немало', 'больше', 'меньше', 'я', 'мы', 'ты', 'вы', 'он', 'она', 'оно', 'они', 'можно', 'мочь', 'нельзя', 'надо', 'нужно', 'иметь', 'быть', 'который', 'какой', 'как', 'что', 'где', 'когда', 'потому', 'только', 'также', 'тоже']\n"
     ]
    }
   ],
   "source": [
    "print (stop_words(lines))"
   ]
  },
  {
   "cell_type": "code",
   "execution_count": 3,
   "metadata": {
    "collapsed": false
   },
   "outputs": [],
   "source": [
    "#новости с сайта ленты.ру, уже лемматизированные майстемом\n",
    "s = open(\"C:/Users/1/Desktop/лента.txt\", \"r\", encoding=\"utf-8\")\n",
    "s = s.read()\n",
    "words = s.split()\n",
    "\n",
    "def all_words(words):\n",
    "    punct = \".,:;?!()«»\"\n",
    "    all_words = []\n",
    "    for word in words:\n",
    "        word = word.strip(\"\\ufeff\")\n",
    "        for letter in word:\n",
    "            if letter in punct:\n",
    "                word = word.replace(letter, \"\")\n",
    "        if word in stop_words(lines):\n",
    "            word = word.replace(word, \"stop-word\")\n",
    "        if number(word) == True:\n",
    "            word = word.replace(word, \"\")\n",
    "        if word != \"\":\n",
    "            all_words.append(word)\n",
    "    return (all_words)"
   ]
  },
  {
   "cell_type": "code",
   "execution_count": 4,
   "metadata": {
    "collapsed": false
   },
   "outputs": [],
   "source": [
    "def indices():\n",
    "    words_all = all_words(words)\n",
    "    dic = {}\n",
    "    count = 0\n",
    "    for i in range(len(words_all)):\n",
    "        if words_all[i] not in dic:\n",
    "            count += 1\n",
    "            dic[words_all[i]] = count\n",
    "    return (dic)"
   ]
  },
  {
   "cell_type": "code",
   "execution_count": 5,
   "metadata": {
    "collapsed": false
   },
   "outputs": [
    {
     "name": "stdout",
     "output_type": "stream",
     "text": [
      "3129\n"
     ]
    }
   ],
   "source": [
    "print (len(indices().keys()))"
   ]
  },
  {
   "cell_type": "code",
   "execution_count": 6,
   "metadata": {
    "collapsed": false
   },
   "outputs": [],
   "source": [
    "edges = []\n",
    "words_all = all_words(words)\n",
    "dic_ind = indices()"
   ]
  },
  {
   "cell_type": "code",
   "execution_count": 7,
   "metadata": {
    "collapsed": false
   },
   "outputs": [],
   "source": [
    "for i in range(len(words_all)):\n",
    "    for j in range(i+1, min(i+4, len(words_all))):\n",
    "        if i == j:\n",
    "            continue\n",
    "        edge = tuple((int(dic_ind[words_all[i]]), int(dic_ind[words_all[j]])))\n",
    "        edges.append(edge)"
   ]
  },
  {
   "cell_type": "code",
   "execution_count": 8,
   "metadata": {
    "collapsed": true
   },
   "outputs": [],
   "source": [
    "import networkx as nx\n",
    "import matplotlib.pyplot as plt"
   ]
  },
  {
   "cell_type": "code",
   "execution_count": 9,
   "metadata": {
    "collapsed": false
   },
   "outputs": [
    {
     "data": {
      "image/png": "[encoded data removed]",
      "text/plain": [
       "<matplotlib.figure.Figure at 0x51a7be0>"
      ]
     },
     "metadata": {},
     "output_type": "display_data"
    }
   ],
   "source": [
    "G = nx.Graph()\n",
    "G.add_nodes_from(range(1, 2964))\n",
    "G.add_edges_from(edges)\n",
    "nx.write_gexf(G, \"graph.gexf\")\n",
    "pos = nx.spring_layout(G)\n",
    "nx.draw_networkx_nodes(G, pos, node_color = \"blue\", node_size = 5)\n",
    "nx.draw_networkx_edges(G, pos, edge_color = \"green\")\n",
    "plt.show()"
   ]
  },
  {
   "cell_type": "code",
   "execution_count": 10,
   "metadata": {
    "collapsed": false
   },
   "outputs": [
    {
     "data": {
      "text/plain": [
       "18703"
      ]
     },
     "execution_count": 10,
     "metadata": {},
     "output_type": "execute_result"
    }
   ],
   "source": [
    "G.number_of_edges()"
   ]
  },
  {
   "cell_type": "code",
   "execution_count": 11,
   "metadata": {
    "collapsed": false
   },
   "outputs": [
    {
     "data": {
      "text/plain": [
       "4"
      ]
     },
     "execution_count": 11,
     "metadata": {},
     "output_type": "execute_result"
    }
   ],
   "source": [
    "nx.radius(G)"
   ]
  },
  {
   "cell_type": "code",
   "execution_count": 12,
   "metadata": {
    "collapsed": false
   },
   "outputs": [
    {
     "data": {
      "text/plain": [
       "6"
      ]
     },
     "execution_count": 12,
     "metadata": {},
     "output_type": "execute_result"
    }
   ],
   "source": [
    "nx.diameter(G)"
   ]
  },
  {
   "cell_type": "code",
   "execution_count": 13,
   "metadata": {
    "collapsed": false
   },
   "outputs": [
    {
     "data": {
      "text/plain": [
       "0.003821808851932953"
      ]
     },
     "execution_count": 13,
     "metadata": {},
     "output_type": "execute_result"
    }
   ],
   "source": [
    "nx.density(G)"
   ]
  },
  {
   "cell_type": "code",
   "execution_count": 14,
   "metadata": {
    "collapsed": false
   },
   "outputs": [
    {
     "data": {
      "text/plain": [
       "-0.096578572557733278"
      ]
     },
     "execution_count": 14,
     "metadata": {},
     "output_type": "execute_result"
    }
   ],
   "source": [
    "nx.degree_pearson_correlation_coefficient(G)"
   ]
  },
  {
   "cell_type": "code",
   "execution_count": 15,
   "metadata": {
    "collapsed": false
   },
   "outputs": [
    {
     "data": {
      "text/plain": [
       "0.5622523752297502"
      ]
     },
     "execution_count": 15,
     "metadata": {},
     "output_type": "execute_result"
    }
   ],
   "source": [
    "nx.average_clustering(G)"
   ]
  },
  {
   "cell_type": "code",
   "execution_count": 16,
   "metadata": {
    "collapsed": false
   },
   "outputs": [
    {
     "data": {
      "text/plain": [
       "0.019216705922263183"
      ]
     },
     "execution_count": 16,
     "metadata": {},
     "output_type": "execute_result"
    }
   ],
   "source": [
    "nx.transitivity(G)"
   ]
  },
  {
   "cell_type": "code",
   "execution_count": 17,
   "metadata": {
    "collapsed": false
   },
   "outputs": [
    {
     "name": "stdout",
     "output_type": "stream",
     "text": [
      "внесение\n",
      "вносить\n",
      "сентябрь\n",
      "выбирать\n",
      "обвинение\n",
      "отмечать\n",
      "сравнение\n"
     ]
    }
   ],
   "source": [
    "deg = nx.degree_centrality(G)\n",
    "arr = []\n",
    "for nodeid in sorted(deg, key=deg.get, reverse=True):\n",
    "    arr.append(nodeid)\n",
    "\n",
    "arr2 = []\n",
    "for word in dic_ind.keys():\n",
    "    arr2.append(word)\n",
    "\n",
    "for num in arr[:7]:\n",
    "    print (arr2[num])"
   ]
  }
 ],
 "metadata": {
  "kernelspec": {
   "display_name": "Python 3",
   "language": "python",
   "name": "python3"
  },
  "language_info": {
   "codemirror_mode": {
    "name": "ipython",
    "version": 3
   },
   "file_extension": ".py",
   "mimetype": "text/x-python",
   "name": "python",
   "nbconvert_exporter": "python",
   "pygments_lexer": "ipython3",
   "version": "3.6.0"
  }
 },
 "nbformat": 4,
 "nbformat_minor": 2
}
